{
 "cells": [
  {
   "cell_type": "markdown",
   "metadata": {},
   "source": [
    "# Gesture Recognition\n",
    "In this group project, you are going to build a 3D Conv model that will be able to predict the 5 gestures correctly. Please import the following libraries to get started."
   ]
  },
  {
   "cell_type": "code",
   "execution_count": 1,
   "metadata": {},
   "outputs": [],
   "source": [
    "import numpy as np\n",
    "import os\n",
    "#from scipy.misc import imread, imresize\n",
    "from imageio import imread\n",
    "from skimage.transform import resize\n",
    "\n",
    "import datetime\n",
    "import os"
   ]
  },
  {
   "cell_type": "markdown",
   "metadata": {},
   "source": [
    "We set the random seed so that the results don't vary drastically."
   ]
  },
  {
   "cell_type": "code",
   "execution_count": 2,
   "metadata": {},
   "outputs": [],
   "source": [
    "np.random.seed(30)\n",
    "import random as rn\n",
    "rn.seed(30)\n",
    "\n",
    "from tensorflow.keras import backend as K\n",
    "import tensorflow as tf\n",
    "\n",
    "tf.random.set_seed(30)"
   ]
  },
  {
   "cell_type": "markdown",
   "metadata": {},
   "source": [
    "In this block, you read the folder names for training and validation. You also set the `batch_size` here. Note that you set the batch size in such a way that you are able to use the GPU in full capacity. You keep increasing the batch size until the machine throws an error."
   ]
  },
  {
   "cell_type": "code",
   "execution_count": 3,
   "metadata": {},
   "outputs": [],
   "source": [
    "train_doc = np.random.permutation(open('/home/datasets/Project_data/train.csv').readlines())\n",
    "val_doc = np.random.permutation(open('/home/datasets/Project_data/val.csv').readlines())\n",
    "batch_size = 32 #experiment with the batch size"
   ]
  },
  {
   "cell_type": "markdown",
   "metadata": {},
   "source": [
    "## Generator\n",
    "This is one of the most important part of the code. The overall structure of the generator has been given. In the generator, you are going to preprocess the images as you have images of 2 different dimensions as well as create a batch of video frames. You have to experiment with `img_idx`, `y`,`z` and normalization such that you get high accuracy."
   ]
  },
  {
   "cell_type": "code",
   "execution_count": 4,
   "metadata": {},
   "outputs": [
    {
     "name": "stdout",
     "output_type": "stream",
     "text": [
      "15\n"
     ]
    }
   ],
   "source": [
    "img_idx = [i for i in range(0,30,2)]\n",
    "print(len(img_idx))"
   ]
  },
  {
   "cell_type": "code",
   "execution_count": 5,
   "metadata": {},
   "outputs": [],
   "source": [
    "def generator(source_path, folder_list, batch_size):\n",
    "    print( 'Source path = ', source_path, '; batch size =', batch_size)\n",
    "    #img_idx = [0,1,2,4,6,8,10,12,14,16,18,20,22,24,26,27,28,29] #create a list of image numbers you want to use for a particular video\n",
    "    img_idx = [i for i in range(0,30,2)]\n",
    "    while True:\n",
    "        t = np.random.permutation(folder_list)\n",
    "        num_batches = int(len(t)/batch_size)  # calculate the number of batches\n",
    "        for batch in range(num_batches): # we iterate over the number of batches\n",
    "            batch_data = np.zeros((batch_size,15,90,90,3)) # x is the number of images you use for each video, (y,z) is the final size of the input images and 3 is the number of channels RGB\n",
    "            batch_labels = np.zeros((batch_size,5)) # batch_labels is the one hot representation of the output\n",
    "            for folder in range(batch_size): # iterate over the batch_size\n",
    "                imgs = os.listdir(source_path+'/'+ t[folder + (batch*batch_size)].split(';')[0]) # read all the images in the folder\n",
    "                for idx,item in enumerate(img_idx): #  Iterate iver the frames/images of a folder to read them in\n",
    "                    image = imread(source_path+'/'+ t[folder + (batch*batch_size)].strip().split(';')[0]+'/'+imgs[item]).astype(np.float32)\n",
    "                    \n",
    "                    #crop the images and resize them. Note that the images are of 2 different shape \n",
    "                    #and the conv3D will throw error if the inputs in a batch have different shapes\n",
    "                    if image.shape[1] == 160:\n",
    "                        image = image[15:105,35:125,:].astype(np.float32)\n",
    "                    else:\n",
    "                        image = resize(image,(90,90)).astype(np.float32)\n",
    "\n",
    "                    batch_data[folder,idx,:,:,0] =  image[:,:,0]/255  #normalise and feed in the image\n",
    "                    batch_data[folder,idx,:,:,1] =  image[:,:,1]/255  #normalise and feed in the image\n",
    "                    batch_data[folder,idx,:,:,2] =  image[:,:,2]/255  #normalise and feed in the image\n",
    "                    \n",
    "                batch_labels[folder, int(t[folder + (batch*batch_size)].strip().split(';')[2])] = 1\n",
    "            yield batch_data, batch_labels #you yield the batch_data and the batch_labels, remember what does yield do\n",
    "\n",
    "        \n",
    "        # write the code for the remaining data points which are left after full batches\n",
    "        if (len(t)%batch_size) != 0:\n",
    "            batch_data = np.zeros((len(t)%batch_size,15,90,90,3))\n",
    "            batch_labels = np.zeros((len(t)%batch_size,5))\n",
    "            for folder in range(len(t)%batch_size):\n",
    "                imgs = os.listdir(source_path+'/'+ t[folder + (num_batches*batch_size)].split(';')[0])\n",
    "                for idx,item in enumerate(img_idx):\n",
    "                    image = imread(source_path+'/'+ t[folder + (num_batches*batch_size)].strip().split(';')[0]+'/'+imgs[item]).astype(np.float32)\n",
    "                    if image.shape[1] == 160:\n",
    "                        image = image[15:105,35:125,:].astype(np.float32)\n",
    "                    else:\n",
    "                        image = resize(image,(90,90)).astype(np.float32)\n",
    "\n",
    "                    batch_data[folder,idx,:,:,0] = image[:,:,0]/255\n",
    "                    batch_data[folder,idx,:,:,1] = image[:,:,1]/255\n",
    "                    batch_data[folder,idx,:,:,2] = image[:,:,2]/255\n",
    "\n",
    "                batch_labels[folder, int(t[folder + (num_batches*batch_size)].strip().split(';')[2])] = 1\n",
    "            yield batch_data, batch_labels\n"
   ]
  },
  {
   "cell_type": "markdown",
   "metadata": {},
   "source": [
    "Note here that a video is represented above in the generator as (number of images, height, width, number of channels). Take this into consideration while creating the model architecture."
   ]
  },
  {
   "cell_type": "code",
   "execution_count": 6,
   "metadata": {},
   "outputs": [
    {
     "name": "stdout",
     "output_type": "stream",
     "text": [
      "# training sequences = 663\n",
      "# validation sequences = 100\n",
      "# epochs = 30\n"
     ]
    }
   ],
   "source": [
    "curr_dt_time = datetime.datetime.now()\n",
    "train_path = '/home/datasets/Project_data/train'\n",
    "val_path = '/home/datasets/Project_data/val'\n",
    "num_train_sequences = len(train_doc)\n",
    "print('# training sequences =', num_train_sequences)\n",
    "num_val_sequences = len(val_doc)\n",
    "print('# validation sequences =', num_val_sequences)\n",
    "num_epochs = 30 # choose the number of epochs\n",
    "print ('# epochs =', num_epochs)"
   ]
  },
  {
   "cell_type": "markdown",
   "metadata": {},
   "source": [
    "## Model\n",
    "Here you make the model using different functionalities that Keras provides. Remember to use `Conv3D` and `MaxPooling3D` and not `Conv2D` and `Maxpooling2D` for a 3D convolution model. You would want to use `TimeDistributed` while building a Conv2D + RNN model. Also remember that the last layer is the softmax. Design the network in such a way that the model is able to give good accuracy on the least number of parameters so that it can fit in the memory of the webcam."
   ]
  },
  {
   "cell_type": "code",
   "execution_count": 7,
   "metadata": {},
   "outputs": [],
   "source": [
    "from tensorflow.keras.models import Sequential, Model\n",
    "from tensorflow.keras.layers import Dense, GRU, Flatten, TimeDistributed, Flatten, BatchNormalization, Activation\n",
    "from tensorflow.keras.layers import Conv3D, MaxPooling3D, Dropout  #removed .convolutional\n",
    "from tensorflow.keras.callbacks import ModelCheckpoint, ReduceLROnPlateau\n",
    "from tensorflow.keras import optimizers\n",
    "\n",
    "#write your model here\n",
    "\n",
    "model = Sequential()\n",
    "model.add(Conv3D(64, (3,3,3), strides=(1,1,1), padding='same', input_shape=(15,90,90,3)))\n",
    "model.add(Activation('relu'))\n",
    "model.add(MaxPooling3D(pool_size=(2,2,1), strides=(2,2,1)))\n",
    "\n",
    "model.add(Dropout(0.3))\n",
    "\n",
    "model.add(Conv3D(128, (3,3,3), strides=(1,1,1), padding='same' ))\n",
    "model.add(Activation('relu'))\n",
    "model.add(MaxPooling3D(pool_size=(2,2,2), strides=(2,2,2)))\n",
    "\n",
    "model.add(Dropout(0.3))\n",
    "\n",
    "model.add(Conv3D(256, (3,3,3), strides=(1,1,1), padding='same', \n",
    "                kernel_regularizer=tf.keras.regularizers.l2(0.001)))\n",
    "model.add(Activation('relu'))\n",
    "model.add(MaxPooling3D(pool_size=(2,2,2), strides=(2,2,2)))\n",
    "\n",
    "model.add(Dropout(0.3))\n",
    "\n",
    "model.add(Conv3D(256, (3,3,3), strides=(1,1,1), padding='same', \n",
    "                 kernel_regularizer=tf.keras.regularizers.l2(0.005)))\n",
    "model.add(Activation('relu'))\n",
    "model.add(MaxPooling3D(pool_size=(2,2,2), strides=(2,2,2), padding='same'))\n",
    "\n",
    "model.add(Dropout(0.4))\n",
    "\n",
    "model.add(Flatten())\n",
    "\n",
    "model.add(Dense(512, activation='relu'))\n",
    "model.add(Dropout(0.5))\n",
    "model.add(Dense(256, activation='relu'))\n",
    "\n",
    "model.add(Dense(5, activation='softmax'))"
   ]
  },
  {
   "cell_type": "markdown",
   "metadata": {},
   "source": [
    "Now that you have written the model, the next step is to `compile` the model. When you print the `summary` of the model, you'll see the total number of parameters you have to train."
   ]
  },
  {
   "cell_type": "code",
   "execution_count": 8,
   "metadata": {
    "scrolled": true
   },
   "outputs": [
    {
     "name": "stdout",
     "output_type": "stream",
     "text": [
      "Model: \"sequential\"\n",
      "_________________________________________________________________\n",
      "Layer (type)                 Output Shape              Param #   \n",
      "=================================================================\n",
      "conv3d (Conv3D)              (None, 15, 90, 90, 64)    5248      \n",
      "_________________________________________________________________\n",
      "activation (Activation)      (None, 15, 90, 90, 64)    0         \n",
      "_________________________________________________________________\n",
      "max_pooling3d (MaxPooling3D) (None, 7, 45, 90, 64)     0         \n",
      "_________________________________________________________________\n",
      "dropout (Dropout)            (None, 7, 45, 90, 64)     0         \n",
      "_________________________________________________________________\n",
      "conv3d_1 (Conv3D)            (None, 7, 45, 90, 128)    221312    \n",
      "_________________________________________________________________\n",
      "activation_1 (Activation)    (None, 7, 45, 90, 128)    0         \n",
      "_________________________________________________________________\n",
      "max_pooling3d_1 (MaxPooling3 (None, 3, 22, 45, 128)    0         \n",
      "_________________________________________________________________\n",
      "dropout_1 (Dropout)          (None, 3, 22, 45, 128)    0         \n",
      "_________________________________________________________________\n",
      "conv3d_2 (Conv3D)            (None, 3, 22, 45, 256)    884992    \n",
      "_________________________________________________________________\n",
      "activation_2 (Activation)    (None, 3, 22, 45, 256)    0         \n",
      "_________________________________________________________________\n",
      "max_pooling3d_2 (MaxPooling3 (None, 1, 11, 22, 256)    0         \n",
      "_________________________________________________________________\n",
      "dropout_2 (Dropout)          (None, 1, 11, 22, 256)    0         \n",
      "_________________________________________________________________\n",
      "conv3d_3 (Conv3D)            (None, 1, 11, 22, 256)    1769728   \n",
      "_________________________________________________________________\n",
      "activation_3 (Activation)    (None, 1, 11, 22, 256)    0         \n",
      "_________________________________________________________________\n",
      "max_pooling3d_3 (MaxPooling3 (None, 1, 6, 11, 256)     0         \n",
      "_________________________________________________________________\n",
      "dropout_3 (Dropout)          (None, 1, 6, 11, 256)     0         \n",
      "_________________________________________________________________\n",
      "flatten (Flatten)            (None, 16896)             0         \n",
      "_________________________________________________________________\n",
      "dense (Dense)                (None, 512)               8651264   \n",
      "_________________________________________________________________\n",
      "dropout_4 (Dropout)          (None, 512)               0         \n",
      "_________________________________________________________________\n",
      "dense_1 (Dense)              (None, 256)               131328    \n",
      "_________________________________________________________________\n",
      "dense_2 (Dense)              (None, 5)                 1285      \n",
      "=================================================================\n",
      "Total params: 11,665,157\n",
      "Trainable params: 11,665,157\n",
      "Non-trainable params: 0\n",
      "_________________________________________________________________\n",
      "None\n"
     ]
    }
   ],
   "source": [
    "optimiser = optimizers.Adam(learning_rate=0.0001)   #write your optimizer\n",
    "model.compile(optimizer=optimiser, loss='categorical_crossentropy', metrics=['categorical_accuracy'])\n",
    "print (model.summary())"
   ]
  },
  {
   "cell_type": "markdown",
   "metadata": {},
   "source": [
    "Let us create the `train_generator` and the `val_generator` which will be used in `.fit_generator`."
   ]
  },
  {
   "cell_type": "code",
   "execution_count": 9,
   "metadata": {},
   "outputs": [],
   "source": [
    "train_generator = generator(train_path, train_doc, batch_size)\n",
    "val_generator = generator(val_path, val_doc, batch_size)"
   ]
  },
  {
   "cell_type": "code",
   "execution_count": 10,
   "metadata": {},
   "outputs": [
    {
     "name": "stdout",
     "output_type": "stream",
     "text": [
      "WARNING:tensorflow:`period` argument is deprecated. Please use `save_freq` to specify the frequency in number of batches seen.\n",
      "WARNING:tensorflow:`epsilon` argument is deprecated and will be removed, use `min_delta` instead.\n"
     ]
    }
   ],
   "source": [
    "model_name = 'model_init' + '_' + str(curr_dt_time).replace(' ','').replace(':','_') + '/'\n",
    "    \n",
    "if not os.path.exists(model_name):\n",
    "    os.mkdir(model_name)\n",
    "        \n",
    "filepath = model_name + 'model-{epoch:05d}-{loss:.5f}-{categorical_accuracy:.5f}-{val_loss:.5f}-{val_categorical_accuracy:.5f}.h5'\n",
    "\n",
    "checkpoint = ModelCheckpoint(filepath, monitor='val_loss', verbose=1, save_best_only=False, save_weights_only=False, mode='auto', period=1)\n",
    "\n",
    "LR = ReduceLROnPlateau(monitor='val_loss', factor=0.5, patience=2, verbose=1, mode='min', epsilon=0.0001, cooldown=0, min_lr=0.00001)\n",
    "# write the REducelronplateau code here\n",
    "callbacks_list = [checkpoint, LR]"
   ]
  },
  {
   "cell_type": "markdown",
   "metadata": {},
   "source": [
    "The `steps_per_epoch` and `validation_steps` are used by `fit_generator` to decide the number of next() calls it need to make."
   ]
  },
  {
   "cell_type": "code",
   "execution_count": 11,
   "metadata": {},
   "outputs": [],
   "source": [
    "if (num_train_sequences%batch_size) == 0:\n",
    "    steps_per_epoch = int(num_train_sequences/batch_size)\n",
    "else:\n",
    "    steps_per_epoch = (num_train_sequences//batch_size) + 1\n",
    "\n",
    "if (num_val_sequences%batch_size) == 0:\n",
    "    validation_steps = int(num_val_sequences/batch_size)\n",
    "else:\n",
    "    validation_steps = (num_val_sequences//batch_size) + 1"
   ]
  },
  {
   "cell_type": "markdown",
   "metadata": {},
   "source": [
    "Let us now fit the model. This will start training the model and with the help of the checkpoints, you'll be able to save the model at the end of each epoch."
   ]
  },
  {
   "cell_type": "code",
   "execution_count": 12,
   "metadata": {},
   "outputs": [
    {
     "name": "stdout",
     "output_type": "stream",
     "text": [
      "WARNING:tensorflow:From <ipython-input-12-3f8737701920>:3: Model.fit_generator (from tensorflow.python.keras.engine.training) is deprecated and will be removed in a future version.\n",
      "Instructions for updating:\n",
      "Please use Model.fit, which supports generators.\n",
      "Source path =  /home/datasets/Project_data/train ; batch size = 32\n",
      "Epoch 1/30\n",
      "21/21 [==============================] - ETA: 0s - loss: 2.9475 - categorical_accuracy: 0.2066Source path =  /home/datasets/Project_data/val ; batch size = 32\n",
      "\n",
      "Epoch 00001: saving model to model_init_2021-09-0116_57_47.059289/model-00001-2.94752-0.20664-2.79579-0.23000.h5\n",
      "21/21 [==============================] - 58s 3s/step - loss: 2.9475 - categorical_accuracy: 0.2066 - val_loss: 2.7958 - val_categorical_accuracy: 0.2300\n",
      "Epoch 2/30\n",
      "21/21 [==============================] - ETA: 0s - loss: 2.6944 - categorical_accuracy: 0.2368\n",
      "Epoch 00002: saving model to model_init_2021-09-0116_57_47.059289/model-00002-2.69442-0.23680-2.59529-0.28000.h5\n",
      "21/21 [==============================] - 59s 3s/step - loss: 2.6944 - categorical_accuracy: 0.2368 - val_loss: 2.5953 - val_categorical_accuracy: 0.2800\n",
      "Epoch 3/30\n",
      "21/21 [==============================] - ETA: 0s - loss: 2.5011 - categorical_accuracy: 0.2594\n",
      "Epoch 00003: saving model to model_init_2021-09-0116_57_47.059289/model-00003-2.50110-0.25943-2.41593-0.27000.h5\n",
      "21/21 [==============================] - 58s 3s/step - loss: 2.5011 - categorical_accuracy: 0.2594 - val_loss: 2.4159 - val_categorical_accuracy: 0.2700\n",
      "Epoch 4/30\n",
      "21/21 [==============================] - ETA: 0s - loss: 2.3434 - categorical_accuracy: 0.2836\n",
      "Epoch 00004: saving model to model_init_2021-09-0116_57_47.059289/model-00004-2.34342-0.28356-2.27721-0.30000.h5\n",
      "21/21 [==============================] - 56s 3s/step - loss: 2.3434 - categorical_accuracy: 0.2836 - val_loss: 2.2772 - val_categorical_accuracy: 0.3000\n",
      "Epoch 5/30\n",
      "21/21 [==============================] - ETA: 0s - loss: 2.2268 - categorical_accuracy: 0.2760\n",
      "Epoch 00005: saving model to model_init_2021-09-0116_57_47.059289/model-00005-2.22676-0.27602-2.17471-0.32000.h5\n",
      "21/21 [==============================] - 57s 3s/step - loss: 2.2268 - categorical_accuracy: 0.2760 - val_loss: 2.1747 - val_categorical_accuracy: 0.3200\n",
      "Epoch 6/30\n",
      "21/21 [==============================] - ETA: 0s - loss: 2.0826 - categorical_accuracy: 0.3544\n",
      "Epoch 00006: saving model to model_init_2021-09-0116_57_47.059289/model-00006-2.08260-0.35445-2.05833-0.37000.h5\n",
      "21/21 [==============================] - 57s 3s/step - loss: 2.0826 - categorical_accuracy: 0.3544 - val_loss: 2.0583 - val_categorical_accuracy: 0.3700\n",
      "Epoch 7/30\n",
      "21/21 [==============================] - ETA: 0s - loss: 1.9833 - categorical_accuracy: 0.3650\n",
      "Epoch 00007: saving model to model_init_2021-09-0116_57_47.059289/model-00007-1.98334-0.36501-1.98979-0.30000.h5\n",
      "21/21 [==============================] - 59s 3s/step - loss: 1.9833 - categorical_accuracy: 0.3650 - val_loss: 1.9898 - val_categorical_accuracy: 0.3000\n",
      "Epoch 8/30\n",
      "21/21 [==============================] - ETA: 0s - loss: 1.8628 - categorical_accuracy: 0.4148\n",
      "Epoch 00008: saving model to model_init_2021-09-0116_57_47.059289/model-00008-1.86281-0.41478-1.94708-0.34000.h5\n",
      "21/21 [==============================] - 58s 3s/step - loss: 1.8628 - categorical_accuracy: 0.4148 - val_loss: 1.9471 - val_categorical_accuracy: 0.3400\n",
      "Epoch 9/30\n",
      "21/21 [==============================] - ETA: 0s - loss: 1.8167 - categorical_accuracy: 0.4193\n",
      "Epoch 00009: saving model to model_init_2021-09-0116_57_47.059289/model-00009-1.81673-0.41931-1.83470-0.38000.h5\n",
      "21/21 [==============================] - 58s 3s/step - loss: 1.8167 - categorical_accuracy: 0.4193 - val_loss: 1.8347 - val_categorical_accuracy: 0.3800\n",
      "Epoch 10/30\n",
      "21/21 [==============================] - ETA: 0s - loss: 1.6988 - categorical_accuracy: 0.4570\n",
      "Epoch 00010: saving model to model_init_2021-09-0116_57_47.059289/model-00010-1.69881-0.45701-1.86490-0.35000.h5\n",
      "21/21 [==============================] - 60s 3s/step - loss: 1.6988 - categorical_accuracy: 0.4570 - val_loss: 1.8649 - val_categorical_accuracy: 0.3500\n",
      "Epoch 11/30\n",
      "21/21 [==============================] - ETA: 0s - loss: 1.5980 - categorical_accuracy: 0.5249\n",
      "Epoch 00011: saving model to model_init_2021-09-0116_57_47.059289/model-00011-1.59798-0.52489-1.72101-0.41000.h5\n",
      "21/21 [==============================] - 60s 3s/step - loss: 1.5980 - categorical_accuracy: 0.5249 - val_loss: 1.7210 - val_categorical_accuracy: 0.4100\n",
      "Epoch 12/30\n",
      "21/21 [==============================] - ETA: 0s - loss: 1.4859 - categorical_accuracy: 0.5490\n",
      "Epoch 00012: saving model to model_init_2021-09-0116_57_47.059289/model-00012-1.48591-0.54902-1.44197-0.53000.h5\n",
      "21/21 [==============================] - 63s 3s/step - loss: 1.4859 - categorical_accuracy: 0.5490 - val_loss: 1.4420 - val_categorical_accuracy: 0.5300\n",
      "Epoch 13/30\n",
      "21/21 [==============================] - ETA: 0s - loss: 1.3309 - categorical_accuracy: 0.6305\n",
      "Epoch 00013: saving model to model_init_2021-09-0116_57_47.059289/model-00013-1.33093-0.63047-1.35360-0.58000.h5\n",
      "21/21 [==============================] - 81s 4s/step - loss: 1.3309 - categorical_accuracy: 0.6305 - val_loss: 1.3536 - val_categorical_accuracy: 0.5800\n",
      "Epoch 14/30\n",
      "21/21 [==============================] - ETA: 0s - loss: 1.2316 - categorical_accuracy: 0.6259\n",
      "Epoch 00014: saving model to model_init_2021-09-0116_57_47.059289/model-00014-1.23159-0.62594-1.17222-0.67000.h5\n",
      "21/21 [==============================] - 66s 3s/step - loss: 1.2316 - categorical_accuracy: 0.6259 - val_loss: 1.1722 - val_categorical_accuracy: 0.6700\n",
      "Epoch 15/30\n",
      "21/21 [==============================] - ETA: 0s - loss: 1.1012 - categorical_accuracy: 0.7104\n",
      "Epoch 00015: saving model to model_init_2021-09-0116_57_47.059289/model-00015-1.10116-0.71041-1.19540-0.67000.h5\n",
      "21/21 [==============================] - 58s 3s/step - loss: 1.1012 - categorical_accuracy: 0.7104 - val_loss: 1.1954 - val_categorical_accuracy: 0.6700\n",
      "Epoch 16/30\n",
      "21/21 [==============================] - ETA: 0s - loss: 0.9820 - categorical_accuracy: 0.7225\n",
      "Epoch 00016: saving model to model_init_2021-09-0116_57_47.059289/model-00016-0.98204-0.72247-1.06196-0.73000.h5\n",
      "21/21 [==============================] - 54s 3s/step - loss: 0.9820 - categorical_accuracy: 0.7225 - val_loss: 1.0620 - val_categorical_accuracy: 0.7300\n",
      "Epoch 17/30\n",
      "21/21 [==============================] - ETA: 0s - loss: 0.9006 - categorical_accuracy: 0.7617\n",
      "Epoch 00017: saving model to model_init_2021-09-0116_57_47.059289/model-00017-0.90063-0.76169-1.14417-0.69000.h5\n",
      "21/21 [==============================] - 57s 3s/step - loss: 0.9006 - categorical_accuracy: 0.7617 - val_loss: 1.1442 - val_categorical_accuracy: 0.6900\n",
      "Epoch 18/30\n",
      "21/21 [==============================] - ETA: 0s - loss: 0.8196 - categorical_accuracy: 0.8009\n",
      "Epoch 00018: saving model to model_init_2021-09-0116_57_47.059289/model-00018-0.81956-0.80090-0.86544-0.78000.h5\n",
      "21/21 [==============================] - 56s 3s/step - loss: 0.8196 - categorical_accuracy: 0.8009 - val_loss: 0.8654 - val_categorical_accuracy: 0.7800\n",
      "Epoch 19/30\n",
      "21/21 [==============================] - ETA: 0s - loss: 0.7428 - categorical_accuracy: 0.8341\n",
      "Epoch 00019: saving model to model_init_2021-09-0116_57_47.059289/model-00019-0.74283-0.83409-0.87654-0.81000.h5\n",
      "21/21 [==============================] - 60s 3s/step - loss: 0.7428 - categorical_accuracy: 0.8341 - val_loss: 0.8765 - val_categorical_accuracy: 0.8100\n",
      "Epoch 20/30\n",
      "21/21 [==============================] - ETA: 0s - loss: 0.7591 - categorical_accuracy: 0.8069\n",
      "Epoch 00020: saving model to model_init_2021-09-0116_57_47.059289/model-00020-0.75911-0.80694-0.78990-0.84000.h5\n",
      "21/21 [==============================] - 62s 3s/step - loss: 0.7591 - categorical_accuracy: 0.8069 - val_loss: 0.7899 - val_categorical_accuracy: 0.8400\n",
      "Epoch 21/30\n",
      "21/21 [==============================] - ETA: 0s - loss: 0.6974 - categorical_accuracy: 0.8341\n",
      "Epoch 00021: saving model to model_init_2021-09-0116_57_47.059289/model-00021-0.69740-0.83409-0.81538-0.80000.h5\n",
      "21/21 [==============================] - 62s 3s/step - loss: 0.6974 - categorical_accuracy: 0.8341 - val_loss: 0.8154 - val_categorical_accuracy: 0.8000\n",
      "Epoch 22/30\n",
      "21/21 [==============================] - ETA: 0s - loss: 0.6423 - categorical_accuracy: 0.8718\n",
      "Epoch 00022: saving model to model_init_2021-09-0116_57_47.059289/model-00022-0.64230-0.87179-0.80264-0.80000.h5\n",
      "\n",
      "Epoch 00022: ReduceLROnPlateau reducing learning rate to 4.999999873689376e-05.\n",
      "21/21 [==============================] - 62s 3s/step - loss: 0.6423 - categorical_accuracy: 0.8718 - val_loss: 0.8026 - val_categorical_accuracy: 0.8000\n",
      "Epoch 23/30\n",
      "21/21 [==============================] - ETA: 0s - loss: 0.5806 - categorical_accuracy: 0.8763\n",
      "Epoch 00023: saving model to model_init_2021-09-0116_57_47.059289/model-00023-0.58063-0.87632-0.67037-0.87000.h5\n",
      "21/21 [==============================] - 61s 3s/step - loss: 0.5806 - categorical_accuracy: 0.8763 - val_loss: 0.6704 - val_categorical_accuracy: 0.8700\n",
      "Epoch 24/30\n",
      "21/21 [==============================] - ETA: 0s - loss: 0.5619 - categorical_accuracy: 0.8854\n",
      "Epoch 00024: saving model to model_init_2021-09-0116_57_47.059289/model-00024-0.56191-0.88537-0.76787-0.79000.h5\n",
      "21/21 [==============================] - 61s 3s/step - loss: 0.5619 - categorical_accuracy: 0.8854 - val_loss: 0.7679 - val_categorical_accuracy: 0.7900\n",
      "Epoch 25/30\n",
      "21/21 [==============================] - ETA: 0s - loss: 0.5184 - categorical_accuracy: 0.8944\n",
      "Epoch 00025: saving model to model_init_2021-09-0116_57_47.059289/model-00025-0.51844-0.89442-0.76088-0.84000.h5\n",
      "\n",
      "Epoch 00025: ReduceLROnPlateau reducing learning rate to 2.499999936844688e-05.\n",
      "21/21 [==============================] - 61s 3s/step - loss: 0.5184 - categorical_accuracy: 0.8944 - val_loss: 0.7609 - val_categorical_accuracy: 0.8400\n",
      "Epoch 26/30\n",
      "21/21 [==============================] - ETA: 0s - loss: 0.4935 - categorical_accuracy: 0.9110\n",
      "Epoch 00026: saving model to model_init_2021-09-0116_57_47.059289/model-00026-0.49345-0.91101-0.85790-0.80000.h5\n",
      "21/21 [==============================] - 62s 3s/step - loss: 0.4935 - categorical_accuracy: 0.9110 - val_loss: 0.8579 - val_categorical_accuracy: 0.8000\n",
      "Epoch 27/30\n",
      "21/21 [==============================] - ETA: 0s - loss: 0.4636 - categorical_accuracy: 0.9186\n",
      "Epoch 00027: saving model to model_init_2021-09-0116_57_47.059289/model-00027-0.46361-0.91855-0.70448-0.84000.h5\n",
      "\n",
      "Epoch 00027: ReduceLROnPlateau reducing learning rate to 1.249999968422344e-05.\n",
      "21/21 [==============================] - 62s 3s/step - loss: 0.4636 - categorical_accuracy: 0.9186 - val_loss: 0.7045 - val_categorical_accuracy: 0.8400\n",
      "Epoch 28/30\n",
      "21/21 [==============================] - ETA: 0s - loss: 0.4720 - categorical_accuracy: 0.9125\n",
      "Epoch 00028: saving model to model_init_2021-09-0116_57_47.059289/model-00028-0.47201-0.91252-0.74043-0.84000.h5\n",
      "21/21 [==============================] - 60s 3s/step - loss: 0.4720 - categorical_accuracy: 0.9125 - val_loss: 0.7404 - val_categorical_accuracy: 0.8400\n",
      "Epoch 29/30\n",
      "21/21 [==============================] - ETA: 0s - loss: 0.4405 - categorical_accuracy: 0.9412\n",
      "Epoch 00029: saving model to model_init_2021-09-0116_57_47.059289/model-00029-0.44054-0.94118-0.75936-0.82000.h5\n",
      "\n",
      "Epoch 00029: ReduceLROnPlateau reducing learning rate to 1e-05.\n",
      "21/21 [==============================] - 61s 3s/step - loss: 0.4405 - categorical_accuracy: 0.9412 - val_loss: 0.7594 - val_categorical_accuracy: 0.8200\n",
      "Epoch 30/30\n",
      "21/21 [==============================] - ETA: 0s - loss: 0.4244 - categorical_accuracy: 0.9382\n",
      "Epoch 00030: saving model to model_init_2021-09-0116_57_47.059289/model-00030-0.42442-0.93816-0.53401-0.90000.h5\n",
      "21/21 [==============================] - 61s 3s/step - loss: 0.4244 - categorical_accuracy: 0.9382 - val_loss: 0.5340 - val_categorical_accuracy: 0.9000\n"
     ]
    }
   ],
   "source": [
    "history = model.fit_generator(train_generator, steps_per_epoch=steps_per_epoch, epochs=num_epochs, verbose=1, \n",
    "                    callbacks=callbacks_list, validation_data=val_generator, \n",
    "                    validation_steps=validation_steps, class_weight=None, workers=1, initial_epoch=0)"
   ]
  },
  {
   "cell_type": "code",
   "execution_count": 14,
   "metadata": {},
   "outputs": [
    {
     "data": {
      "image/png": "[encoded data removed]",
      "text/plain": [
       "<Figure size 576x576 with 2 Axes>"
      ]
     },
     "metadata": {
      "needs_background": "light"
     },
     "output_type": "display_data"
    }
   ],
   "source": [
    "import matplotlib.pyplot as plt\n",
    "\n",
    "acc = history.history['categorical_accuracy']\n",
    "val_acc = history.history['val_categorical_accuracy']\n",
    "\n",
    "loss = history.history['loss']\n",
    "val_loss = history.history['val_loss']\n",
    "\n",
    "epochs_range = range(num_epochs)\n",
    "\n",
    "plt.figure(figsize=(8, 8))\n",
    "plt.subplot(1, 2, 1)\n",
    "plt.plot(epochs_range, acc, label='Training Accuracy')\n",
    "plt.plot(epochs_range, val_acc, label='Validation Accuracy')\n",
    "plt.legend(loc='lower right')\n",
    "plt.title('Training and Validation Accuracy')\n",
    "\n",
    "plt.subplot(1, 2, 2)\n",
    "plt.plot(epochs_range, loss, label='Training Loss')\n",
    "plt.plot(epochs_range, val_loss, label='Validation Loss')\n",
    "plt.legend(loc='upper right')\n",
    "plt.title('Training and Validation Loss')\n",
    "plt.show()"
   ]
  },
  {
   "cell_type": "code",
   "execution_count": null,
   "metadata": {},
   "outputs": [],
   "source": []
  }
 ],
 "metadata": {
  "kernelspec": {
   "display_name": "Python 3",
   "language": "python",
   "name": "python3"
  },
  "language_info": {
   "codemirror_mode": {
    "name": "ipython",
    "version": 3
   },
   "file_extension": ".py",
   "mimetype": "text/x-python",
   "name": "python",
   "nbconvert_exporter": "python",
   "pygments_lexer": "ipython3",
   "version": "3.8.5"
  }
 },
 "nbformat": 4,
 "nbformat_minor": 4
}
